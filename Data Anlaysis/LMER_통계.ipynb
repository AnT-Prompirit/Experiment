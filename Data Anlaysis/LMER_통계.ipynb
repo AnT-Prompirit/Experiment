{
  "nbformat": 4,
  "nbformat_minor": 0,
  "metadata": {
    "colab": {
      "provenance": []
    },
    "kernelspec": {
      "name": "python3",
      "display_name": "Python 3"
    },
    "language_info": {
      "name": "python"
    }
  },
  "cells": [
    {
      "cell_type": "code",
      "execution_count": null,
      "metadata": {
        "id": "qah8qPQ-nXVb"
      },
      "outputs": [],
      "source": [
        "import pandas as pd\n",
        "import statsmodels.api as sm\n",
        "import seaborn as sns\n",
        "import matplotlib.pyplot as plt\n",
        "import statsmodels.formula.api as smf\n",
        "\n",
        "dfs=[]\n",
        "# 결과 저장용 리스트\n",
        "results = []\n",
        "\n",
        "# 파일 경로 설정 (파일명은 실제 파일의 경로 및 이름으로 변경해야 합니다.)\n",
        "file_paths = ['/content/drive/MyDrive/앤트 공유 문서함/1. final result/main_data2.csv',\n",
        "              '/content/drive/MyDrive/앤트 공유 문서함/1. final result/E1_label.csv',\n",
        "              '/content/drive/MyDrive/앤트 공유 문서함/1. final result/E2_adj.csv',\n",
        "              '/content/drive/MyDrive/앤트 공유 문서함/1. final result/E3_ut_syns.csv',\n",
        "              '/content/drive/MyDrive/앤트 공유 문서함/1. final result/E6_E2_E3.csv',\n",
        "              '/content/drive/MyDrive/앤트 공유 문서함/1. final result/S1_clustering.csv',\n",
        "              '/content/drive/MyDrive/앤트 공유 문서함/1. final result/S2_rag.csv',\n",
        "              '/content/drive/MyDrive/앤트 공유 문서함/1. final result/C_E1_S1.csv',\n",
        "              '/content/drive/MyDrive/앤트 공유 문서함/1. final result/C_E1_S2.csv',\n",
        "              '/content/drive/MyDrive/앤트 공유 문서함/1. final result/C_E2_S1.csv',\n",
        "              '/content/drive/MyDrive/앤트 공유 문서함/1. final result/C_E2_S2.csv',\n",
        "              '/content/drive/MyDrive/앤트 공유 문서함/1. final result/C_E3_S1.csv',\n",
        "              '/content/drive/MyDrive/앤트 공유 문서함/1. final result/C_E3_S2.csv',\n",
        "              '/content/drive/MyDrive/앤트 공유 문서함/1. final result/C_E4_S1.csv',\n",
        "              '/content/drive/MyDrive/앤트 공유 문서함/1. final result/C_E4_S2.csv',\n",
        "              ]\n",
        "\n",
        "desired_columns = [\"sd_ITA\", \"sd_IEA\", \"Asthetic\"]\n",
        "\n",
        "# 고정 효과: 프롬프트 편집 방법, 랜덤 효과: 프롬프트 인덱스, 종속 변수: 평가지표 점수\n",
        "# 각 파일의\n",
        "for file_path in file_paths:\n",
        "    # 파일명에서 고정효과 추출\n",
        "    method = file_path.split(\"/\")[-1].split(\".csv\")[0]\n",
        "\n",
        "    df = pd.read_csv(file_path)\n",
        "    ndf = df[desired_columns]\n",
        "\n",
        "    # 새로운 열로 고정효과 추가\n",
        "    ndf['method'] = method\n",
        "    ndf['id'] = range(1, len(ndf) + 1)\n",
        "\n",
        "    dfs.append(ndf)\n",
        "\n",
        "# 각 종속 변수에 대해 모델링\n",
        "dependent_variables = [\"sd_ITA\", \"sd_IEA\", \"Asthetic\"]\n",
        "\n",
        "concatenated_df = pd.concat(dfs, ignore_index=True)\n",
        "\n",
        "for dependent_variable in dependent_variables:\n",
        "    formula = f\"{dependent_variable} ~ C(method, Treatment('main_data2')) + (1 | id)\"\n",
        "    model = smf.mixedlm(formula, data=concatenated_df, groups=concatenated_df[\"id\"])\n",
        "    result = model.fit()\n",
        "\n",
        "    # 결과 저장\n",
        "    results.append({\n",
        "        'dependent_variable': dependent_variable,\n",
        "        'result': result\n",
        "    })\n",
        "\n",
        "# 결과 출력 (p-value 확인)\n",
        "for res in results:\n",
        "    print(f\"Dependent Variable: {res['dependent_variable']}\")\n",
        "    print(res['result'].summary())"
      ]
    }
  ]
}
